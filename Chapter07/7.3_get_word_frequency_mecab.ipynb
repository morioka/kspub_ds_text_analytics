{
 "cells": [
  {
   "cell_type": "code",
   "execution_count": 1,
   "metadata": {
    "tags": []
   },
   "outputs": [],
   "source": [
    "from collections import Counter # データ保管用\n",
    "import glob  # 指定ディレクトリ以下のファイルを得る\n",
    "\n",
    "import MeCab\n",
    "from tqdm import tqdm  # プログラスバーは表示\n",
    "\n",
    "# CoARiJの2014データが保存されているディレクトリ\n",
    "coarij_dir = 'data/CoARiJ/2014/docs'\n",
    "\n",
    "# MeCabのTaggerインスタンスは先に生成しておく\n",
    "tagger = MeCab.Tagger(\"\")"
   ]
  },
  {
   "cell_type": "code",
   "execution_count": 2,
   "metadata": {
    "tags": []
   },
   "outputs": [],
   "source": [
    "def get_postag(feature):\n",
    "    return feature.split(',')[0]\n",
    "\n",
    "def extract_words(node):\n",
    "    words = []\n",
    "    while node:\n",
    "        postag = get_postag(node.feature)\n",
    "        if postag.startswith('名詞'):\n",
    "            words.append(node.surface)\n",
    "        node = node.next\n",
    "    return words\n",
    "\n",
    "def parse_file(path, tagger):\n",
    "    words_all = []\n",
    "    with open(path, 'r') as f:\n",
    "        for line in f:\n",
    "            line = line.strip()\n",
    "            if not line:\n",
    "                continue\n",
    "            node = tagger.parseToNode(line)\n",
    "            words = extract_words(node)\n",
    "            words_all.extend(words)\n",
    "    return words_all"
   ]
  },
  {
   "cell_type": "code",
   "execution_count": 3,
   "metadata": {
    "tags": []
   },
   "outputs": [
    {
     "name": "stderr",
     "output_type": "stream",
     "text": [
      "100%|█████████████████████████████████████████████████████████████████████████████| 40563/40563 [08:12<00:00, 82.40it/s]\n"
     ]
    }
   ],
   "source": [
    "# ファイル一覧を得る\n",
    "paths = glob.glob(f'{coarij_dir}/**/**.txt', recursive=True)\n",
    "\n",
    "# 語の頻度を数えるための辞書型オブジェクト\n",
    "counter = Counter()\n",
    "\n",
    "# 単語の数を数える\n",
    "for path in tqdm(paths):\n",
    "    words = parse_file(path, tagger)\n",
    "    counter.update(words)"
   ]
  },
  {
   "cell_type": "code",
   "execution_count": 4,
   "metadata": {},
   "outputs": [
    {
     "name": "stdout",
     "output_type": "stream",
     "text": [
      "1, (, 915545\n",
      "2, ), 864240\n",
      "3, ,, 688285\n",
      "4, 年, 582750\n",
      "5, 月, 576795\n",
      "6, 当社, 452978\n",
      "7, 平成, 415277\n",
      "8, 取締役, 358095\n",
      "9, 監査, 353541\n",
      "10, 1, 342582\n",
      "11, 円, 334876\n",
      "12, 事業, 319149\n",
      "13, ., 314982\n",
      "14, 等, 286308\n",
      "15, 3, 250223\n",
      "16, 2, 239998\n",
      "17, 4, 236426\n",
      "18, 万, 233527\n",
      "19, 百, 226568\n",
      "20, 連結, 217947\n"
     ]
    }
   ],
   "source": [
    "# 頻度の高い語を上位20個表示\n",
    "for i, (word, count) in enumerate(counter.most_common(20)):\n",
    "    print(\"{:d}, {}, {:d}\".format(i+1, word, count))"
   ]
  },
  {
   "cell_type": "code",
   "execution_count": null,
   "metadata": {},
   "outputs": [],
   "source": []
  }
 ],
 "metadata": {
  "kernelspec": {
   "display_name": "Python 3 (ipykernel)",
   "language": "python",
   "name": "python3"
  },
  "language_info": {
   "codemirror_mode": {
    "name": "ipython",
    "version": 3
   },
   "file_extension": ".py",
   "mimetype": "text/x-python",
   "name": "python",
   "nbconvert_exporter": "python",
   "pygments_lexer": "ipython3",
   "version": "3.9.10"
  }
 },
 "nbformat": 4,
 "nbformat_minor": 4
}
