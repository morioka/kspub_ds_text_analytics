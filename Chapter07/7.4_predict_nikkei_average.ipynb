{
 "cells": [
  {
   "cell_type": "markdown",
   "metadata": {},
   "source": [
    "## 日経平均株価（月次）データのダウンロード\n",
    "* 日経平均プロファイルのサイトから『日経平均株価ー月次データ」をダウンロード\n",
    "    * https://indexes.nikkei.co.jp/nkave/index?type=download"
   ]
  },
  {
   "cell_type": "code",
   "execution_count": null,
   "metadata": {},
   "outputs": [],
   "source": [
    "!wget  -O \"./data/nikkei_stock_average_monthly_jp.csv\" \"https://indexes.nikkei.co.jp/nkave/historical/nikkei_stock_average_monthly_jp.csv\""
   ]
  },
  {
   "cell_type": "code",
   "execution_count": 1,
   "metadata": {
    "tags": []
   },
   "outputs": [],
   "source": [
    "import json  # jsonデータ用\n",
    "import pandas as pd  # csvデータ用\n",
    "\n",
    "# 日経平均が格納されたcsvファイル\n",
    "path_nikkei = 'data/nikkei_stock_average_monthly_jp.csv'\n",
    "\n",
    "# 対象年度(2014年から2017年)\n",
    "years = list(range(2014, 2018))"
   ]
  },
  {
   "cell_type": "code",
   "execution_count": 2,
   "metadata": {
    "tags": []
   },
   "outputs": [],
   "source": [
    "# 日経平均を読み込む\n",
    "df_nikkei = pd.read_csv(\n",
    "    path_nikkei,\n",
    "    encoding='Shift-JIS', # UTF-8ではないため文字コードを指定\n",
    "    skipfooter=1,         # 末尾の1行を無視\n",
    "    engine='python'       # skipfooterを有効にするための設定\n",
    ")\n",
    "\n",
    "# センチメントスコアを読み込む\n",
    "with open('polarity_scores_mecab.jsonl', 'r') as f:\n",
    "    pol_scores = [json.loads(line.strip()) for line in f]"
   ]
  },
  {
   "cell_type": "code",
   "execution_count": 3,
   "metadata": {
    "tags": []
   },
   "outputs": [
    {
     "name": "stdout",
     "output_type": "stream",
     "text": [
      "日経平均株価日付,前年同月比,年度,極性値\n",
      "2015/09/01,1.075,2014,10309\n",
      "2016/09/01,0.946,2015,4696\n",
      "2017/09/01,1.237,2016,8300\n",
      "2018/09/01,1.185,2017,3208\n"
     ]
    }
   ],
   "source": [
    "# 2015年以降の前年同月比を計算(終値 and 9月)\n",
    "rates = []\n",
    "for y in years:\n",
    "    before = df_nikkei.query(f'データ日付==\"{y}/09/01\"').iloc[0]['終値']\n",
    "    after = df_nikkei.query(f'データ日付==\"{y+1}/09/01\"').iloc[0]['終値']\n",
    "    rate = after / before\n",
    "    rates.append(rate)\n",
    "\n",
    "print(\"日経平均株価日付,前年同月比,年度,極性値\")\n",
    "for i, (year, rate) in enumerate(zip(years, rates)):\n",
    "    business_year = pol_scores[i]['year']\n",
    "    pol = pol_scores[i]['sum']\n",
    "    print(f\"{year+1}/09/01,{rate:.3f},{business_year},{pol:.0f}\")"
   ]
  },
  {
   "cell_type": "code",
   "execution_count": null,
   "metadata": {},
   "outputs": [],
   "source": []
  }
 ],
 "metadata": {
  "kernelspec": {
   "display_name": "Python 3 (ipykernel)",
   "language": "python",
   "name": "python3"
  },
  "language_info": {
   "codemirror_mode": {
    "name": "ipython",
    "version": 3
   },
   "file_extension": ".py",
   "mimetype": "text/x-python",
   "name": "python",
   "nbconvert_exporter": "python",
   "pygments_lexer": "ipython3",
   "version": "3.9.10"
  }
 },
 "nbformat": 4,
 "nbformat_minor": 4
}
