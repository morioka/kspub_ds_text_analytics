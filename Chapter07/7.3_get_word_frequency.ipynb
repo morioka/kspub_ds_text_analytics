{
 "cells": [
  {
   "cell_type": "code",
   "execution_count": null,
   "metadata": {},
   "outputs": [],
   "source": [
    "!pip install coarij\n",
    "!coarij download --kind E --year 2014\n",
    "!coarij download --kind E --year 2015\n",
    "!coarij download --kind E --year 2016\n",
    "!coarij download --kind E --year 2017\n",
    "!coarij download --kind E --year 2018\n",
    "!mv data/interim data/CoARiJ"
   ]
  },
  {
   "cell_type": "code",
   "execution_count": 1,
   "metadata": {
    "tags": []
   },
   "outputs": [],
   "source": [
    "from collections import Counter # データ保管用\n",
    "import glob  # 指定ディレクトリ以下のファイルを得る\n",
    "\n",
    "import spacy\n",
    "from tqdm import tqdm  # プログラスバーは表示\n",
    "\n",
    "# CoARiJの2014データが保存されているディレクトリ\n",
    "coarij_dir = 'data/CoARiJ/2014/docs'\n",
    "\n",
    "# 解析の対象とする品詞\n",
    "noun_tags = set(['NOUN', 'PRON', 'PROPN'])\n",
    "\n",
    "# spacyのインスタンスを生成\n",
    "nlp = spacy.load('ja_ginza')"
   ]
  },
  {
   "cell_type": "code",
   "execution_count": 2,
   "metadata": {
    "tags": []
   },
   "outputs": [],
   "source": [
    "def chunk(lst, n):\n",
    "    \"\"\"\n",
    "    リストをn個ずつのサブリストに分割する。\n",
    "    \"\"\"\n",
    "    return [lst[i:i+n] for i in range(0, len(lst), n)]\n",
    "\n",
    "\n",
    "def extract_words(doc, pos_tags):\n",
    "    words = [token.text.strip()  for token in doc\n",
    "             if token.pos_ in pos_tags]\n",
    "    return words\n",
    "\n",
    "\n",
    "def parse_file(path, nlp, pos_tags):\n",
    "    words_all = []\n",
    "    with open(path, 'r') as f:\n",
    "        for line in f:\n",
    "            line = line.strip()\n",
    "            if not line:\n",
    "                continue\n",
    "            list_lines = line.split(\"。\")\n",
    "            lst_texts = chunk(list_lines,20)\n",
    "            for text in lst_texts:\n",
    "                doc = nlp.tokenizer(\" \".join(text))\n",
    "                words = extract_words(doc, pos_tags)\n",
    "                words_all.extend(words)\n",
    "    return words_all"
   ]
  },
  {
   "cell_type": "code",
   "execution_count": 3,
   "metadata": {
    "tags": []
   },
   "outputs": [
    {
     "name": "stderr",
     "output_type": "stream",
     "text": [
      "100%|█████████████████████████████████████████████████████████████████████████████| 40563/40563 [15:03<00:00, 44.91it/s]\n"
     ]
    }
   ],
   "source": [
    "# ファイル一覧を得る\n",
    "paths = glob.glob(f'{coarij_dir}/**/**.txt', recursive=True)\n",
    "\n",
    "# 語の頻度を数えるための辞書型オブジェクト\n",
    "counter = Counter()\n",
    "\n",
    "# 単語の数を数える\n",
    "for path in tqdm(paths):\n",
    "    words = parse_file(path, nlp, noun_tags)\n",
    "    counter.update(words)"
   ]
  },
  {
   "cell_type": "code",
   "execution_count": 4,
   "metadata": {
    "tags": []
   },
   "outputs": [
    {
     "name": "stdout",
     "output_type": "stream",
     "text": [
      "1, 年, 583237\n",
      "2, 月, 581580\n",
      "3, 当社, 453781\n",
      "4, 平成, 413175\n",
      "5, 円, 328896\n",
      "6, 等, 287672\n",
      "7, 事業, 246475\n",
      "8, 連結, 208030\n",
      "9, 取締役, 200894\n",
      "10, 株式会社, 157455\n",
      "11, こと, 156446\n",
      "12, グループ, 154067\n",
      "13, ため, 142241\n",
      "14, 監査役, 124526\n",
      "15, セグメント, 121444\n",
      "16, 状況, 115423\n",
      "17, 昭和, 110481\n",
      "18, 株式, 108566\n",
      "19, 日, 105759\n",
      "20, 経営, 105481\n"
     ]
    }
   ],
   "source": [
    "# 頻度の高い語を上位20個表示\n",
    "for i, (word, count) in enumerate(counter.most_common(20)):\n",
    "    print(\"{:d}, {}, {:d}\".format(i+1, word, count))"
   ]
  }
 ],
 "metadata": {
  "kernelspec": {
   "display_name": "Python 3 (ipykernel)",
   "language": "python",
   "name": "python3"
  },
  "language_info": {
   "codemirror_mode": {
    "name": "ipython",
    "version": 3
   },
   "file_extension": ".py",
   "mimetype": "text/x-python",
   "name": "python",
   "nbconvert_exporter": "python",
   "pygments_lexer": "ipython3",
   "version": "3.9.10"
  }
 },
 "nbformat": 4,
 "nbformat_minor": 4
}
