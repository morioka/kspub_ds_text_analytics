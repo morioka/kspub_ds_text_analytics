{
 "cells": [
  {
   "cell_type": "code",
   "execution_count": 1,
   "metadata": {
    "tags": []
   },
   "outputs": [
    {
     "name": "stdout",
     "output_type": "stream",
     "text": [
      "year  count\n",
      "年度\n",
      "2007      1\n",
      "2008      6\n",
      "2009      7\n",
      "2010     50\n",
      "2011    140\n",
      "2012    220\n",
      "2013    262\n",
      "2014    319\n",
      "2015    362\n",
      "2016    270\n",
      "2017    240\n",
      "2018    237\n",
      "Name: count, dtype: int64 \n",
      "\n"
     ]
    }
   ],
   "source": [
    "# count_review.py\n",
    "\n",
    "import pandas as pd\n",
    "\n",
    "# 口コミデータの読み込み\n",
    "df = pd.read_csv('text/tdl.csv', encoding='utf-8',\n",
    "                 parse_dates=['旅行の時期'])\n",
    "\n",
    "# 旅行の時期が欠損している口コミを削除\n",
    "df = df.dropna(subset=['旅行の時期'])\n",
    "\n",
    "# 旅行の時期を年度に直し，「年度」という項目を追加\n",
    "df['年度'] = df['旅行の時期'].apply(lambda x: x.year if x.month >= 4 else x.year-1)\n",
    "\n",
    "# 年度ごとに口コミの件数をカウントした結果を表示\n",
    "print('year  count')\n",
    "print(df['年度'].value_counts().sort_index(), '\\n')"
   ]
  },
  {
   "cell_type": "code",
   "execution_count": null,
   "metadata": {},
   "outputs": [],
   "source": []
  }
 ],
 "metadata": {
  "kernelspec": {
   "display_name": "Python 3 (ipykernel)",
   "language": "python",
   "name": "python3"
  },
  "language_info": {
   "codemirror_mode": {
    "name": "ipython",
    "version": 3
   },
   "file_extension": ".py",
   "mimetype": "text/x-python",
   "name": "python",
   "nbconvert_exporter": "python",
   "pygments_lexer": "ipython3",
   "version": "3.9.10"
  }
 },
 "nbformat": 4,
 "nbformat_minor": 4
}
