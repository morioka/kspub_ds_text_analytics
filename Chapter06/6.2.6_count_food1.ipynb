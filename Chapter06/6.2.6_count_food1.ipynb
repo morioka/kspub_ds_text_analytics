{
 "cells": [
  {
   "cell_type": "code",
   "execution_count": 1,
   "metadata": {
    "tags": []
   },
   "outputs": [],
   "source": [
    "# count_food1.py\n",
    "\n",
    "from collections import Counter\n",
    "\n",
    "import spacy\n",
    "from spacy.pipeline import EntityRuler\n",
    "import pandas as pd\n",
    "\n",
    "# 1. 口コミデータの読み込み\n",
    "df = pd.read_csv('text/miyajima_sample.csv', encoding='utf-8',\n",
    "                 parse_dates=['旅行の時期'])\n",
    "\n",
    "nlp = spacy.load('ja_ginza')"
   ]
  },
  {
   "cell_type": "code",
   "execution_count": 2,
   "metadata": {
    "tags": []
   },
   "outputs": [],
   "source": [
    "# 2. 固有表現抽出のルールを追加\n",
    "patterns = [\n",
    "    {'label': 'Dish', 'pattern': [\n",
    "        {'TEXT': 'あなご'},\n",
    "        {'TEXT': {'REGEX': r'飯|めし'}},\n",
    "    ]},\n",
    "    {'label': 'Dish', 'pattern': '揚げもみじ'},\n",
    "    {'label': 'Dish', 'pattern': 'ガンス'},\n",
    "    {'label': 'Dish', 'pattern': [\n",
    "        {'TEXT': 'にぎり'},\n",
    "        {'TEXT': '天'}\n",
    "    ]}\n",
    "]\n",
    "ruler = nlp.add_pipe(\"entity_ruler\", before=\"ner\")\n",
    "ruler.add_patterns(patterns)"
   ]
  },
  {
   "cell_type": "code",
   "execution_count": 3,
   "metadata": {
    "scrolled": true,
    "tags": []
   },
   "outputs": [
    {
     "name": "stdout",
     "output_type": "stream",
     "text": [
      "count word\n",
      "   35 饅頭\n",
      "   27 揚げもみじ\n",
      "    6 焼き牡蠣\n",
      "    6 にぎり天\n",
      "    6 あなご飯\n",
      "    6 あなごめし\n",
      "    6 ガンス\n",
      "    6 穴子\n",
      "    4 アイスクリーム\n",
      "    4 コーヒー\n",
      "    4 お茶\n",
      "    3 穴子飯\n",
      "    3 牡蠣料理専門店\n",
      "    3 スタバ\n",
      "    3 揚げ紅葉\n",
      "    3 もみじ饅頭\n",
      "    2 サンドdeおにぎり\n",
      "    2 飯\n",
      "    2 穴子めし\n",
      "    2 チーズ\n",
      "    2 揚げ\n",
      "    2 ビール\n",
      "    2 クリーム\n",
      "    2 日本酒\n",
      "    1 カキフライ\n",
      "    1 牡蠣飯\n",
      "    1 牡蠣料理\n",
      "    1 カクテル\n",
      "    1 ジュース\n",
      "    1 おにぎり\n",
      "    1 博多屋\n",
      "    1 出来立て熱々\n",
      "    1 コッペパン\n",
      "    1 コーヒー豆\n",
      "    1 弁当\n",
      "    1 白湯\n",
      "    1 軽食\n",
      "    1 竹輪\n",
      "    1 地ビール\n",
      "    1 ステーキ\n",
      "    1 ケーキ\n",
      "    1 紅葉揚げ\n",
      "    1 アイス\n",
      "    1 じみ饅頭\n",
      "    1 顔はめ\n",
      "    1 穴子入り竹輪\n",
      "    1 お土産選び\n",
      "    1 スターバックス\n",
      "    1 抹茶ミルクティー\n",
      "    1 タピオカミルクティー\n",
      "    1 お好み焼き\n",
      "    1 揚げ紅葉うまい\n",
      "    1 揚げ天\n",
      "    1 揚げ紅葉饅頭\n",
      "    1 牡蠣のパスタ\n",
      "    1 カフェ\n",
      "    1 海鮮丼\n",
      "    1 カレーパン\n",
      "    1 アンパンマン\n",
      "    1 焼き立て\n",
      "    1 スターバックスコーヒー\n",
      "    1 ねぎたこ\n",
      "    1 プリップリの焼き牡蠣\n",
      "    1 焼きがき\n",
      "    1 醤油マヨ\n",
      "    1 牡蠣\n",
      "    1 桐葉菓\n",
      "    1 焼きがきのはやし\n",
      "    1 焼き\n",
      "    1 牡蠣の美味しさを知れ\n",
      "    1 鹿せんべい\n"
     ]
    }
   ],
   "source": [
    "# 3. 料理名をリストに追加\n",
    "food = []\n",
    "for doc in nlp.pipe(df['口コミ']):\n",
    "    # 料理名（Dishタグ）を抽出\n",
    "    for ent in doc.ents:\n",
    "        if ent.label_ == 'Dish':\n",
    "            food.append(ent.text)\n",
    "\n",
    "# 4. 料理名の頻度をカウント\n",
    "counter = Counter(food)\n",
    "\n",
    "# 5. 料理名の頻度を表示\n",
    "print('count word')\n",
    "for word, count in counter.most_common():\n",
    "    print(f'{count:>5} {word}')"
   ]
  },
  {
   "cell_type": "code",
   "execution_count": null,
   "metadata": {},
   "outputs": [],
   "source": []
  }
 ],
 "metadata": {
  "kernelspec": {
   "display_name": "Python 3 (ipykernel)",
   "language": "python",
   "name": "python3"
  },
  "language_info": {
   "codemirror_mode": {
    "name": "ipython",
    "version": 3
   },
   "file_extension": ".py",
   "mimetype": "text/x-python",
   "name": "python",
   "nbconvert_exporter": "python",
   "pygments_lexer": "ipython3",
   "version": "3.9.10"
  }
 },
 "nbformat": 4,
 "nbformat_minor": 4
}
