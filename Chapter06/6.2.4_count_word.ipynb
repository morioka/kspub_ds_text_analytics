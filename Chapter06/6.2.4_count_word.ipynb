{
 "cells": [
  {
   "cell_type": "code",
   "execution_count": 1,
   "metadata": {},
   "outputs": [
    {
     "name": "stdout",
     "output_type": "stream",
     "text": [
      "count word\n",
      "  209 宮島\n",
      "  125 行く\n",
      "   96 食べる\n",
      "   84 もみじ\n",
      "   77 思う\n",
      "   74 厳島神社\n",
      "   66 牡蠣\n",
      "   52 水族館\n",
      "   52 鹿\n",
      "   48 饅頭\n"
     ]
    }
   ],
   "source": [
    "# count_word.py\n",
    "\n",
    "from collections import Counter\n",
    "\n",
    "import spacy\n",
    "import pandas as pd\n",
    "\n",
    "# 使用する単語の品詞とストップワードの指定\n",
    "include_pos = ('NOUN', 'PROPN', 'VERB', 'ADJ')\n",
    "stopwords = ('する', 'ある', 'ない', 'いう', 'もの', 'こと', 'よう',\n",
    "             'なる', 'ほう', 'いる', 'くる', 'お', 'できる')\n",
    "\n",
    "# 口コミデータの読み込み\n",
    "df = pd.read_csv('text/miyajima_sample.csv', encoding='utf-8',\n",
    "                 parse_dates=['旅行の時期'])\n",
    "\n",
    "# 口コミに含まれている空行を削除\n",
    "df['口コミ'] = df['口コミ'].replace('\\n+', '\\n', regex=True)\n",
    "\n",
    "nlp = spacy.load('ja_ginza')\n",
    "\n",
    "# 出現する単語をリストに追加\n",
    "words = []\n",
    "for doc in nlp.pipe(df['口コミ'] ):\n",
    "    words.extend([token.lemma_ for token in doc\n",
    "                  if token.pos_ in include_pos and\n",
    "                  token.lemma_ not in stopwords])\n",
    "\n",
    "# 単語の頻度をカウント\n",
    "counter = Counter(words)\n",
    "\n",
    "print('count word')\n",
    "for word, count in counter.most_common(10):\n",
    "    print(f'{count:>5} {word}')"
   ]
  }
 ],
 "metadata": {
  "kernelspec": {
   "display_name": "Python 3 (ipykernel)",
   "language": "python",
   "name": "python3"
  },
  "language_info": {
   "codemirror_mode": {
    "name": "ipython",
    "version": 3
   },
   "file_extension": ".py",
   "mimetype": "text/x-python",
   "name": "python",
   "nbconvert_exporter": "python",
   "pygments_lexer": "ipython3",
   "version": "3.9.10"
  }
 },
 "nbformat": 4,
 "nbformat_minor": 4
}
