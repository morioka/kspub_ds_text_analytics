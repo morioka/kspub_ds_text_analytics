{
 "cells": [
  {
   "cell_type": "code",
   "execution_count": 1,
   "metadata": {
    "tags": []
   },
   "outputs": [
    {
     "name": "stdout",
     "output_type": "stream",
     "text": [
      "●　「した方がよい」が含まれる文を抽出した結果\n",
      "修理中でない大鳥居が見たい方は、修理の状況を確認した方がよいでしょう。\n",
      "時間によって厳島神社の景観が異なるため、満潮干潮の時間を調べてから訪問した方がよいと思います。\n",
      "\n",
      "\n",
      "●　「注意して」が含まれる文を抽出した結果\n",
      "あなご飯などの袋を目の届かない所に置いておくと鹿に食べられてしまうので注意してください。\n",
      "しかし、ゆうちょ銀行か広島銀行だけなので、他銀行の方は注意してください。\n",
      "\n",
      "最高のロケーションですが、鹿が寄って来るので食べられないよう注意して下さい。\n",
      "夜の厳島神社のライトアップは綺麗ですが、飲食店は閉まるのが17～18時ごろと早いため注意してください。\n",
      "シカに軽食や荷物をあさられたりすることだけ注意していれば、町の人はとてもやさしくて親しみやすいので、特に心配することもないと思います。\n",
      "宮島の鹿は人に慣れていて、一緒に写真を撮ることができますが、ポケットなどからも物を取られることがあるので、鹿が近くでは注意してください。\n",
      "宮島島内にはコンビニが一軒もないので注意してください。\n"
     ]
    }
   ],
   "source": [
    "# ext_advice.py\n",
    "\n",
    "import re\n",
    "\n",
    "import spacy\n",
    "import pandas as pd\n",
    "\n",
    "# 口コミデータの読み込み\n",
    "df = pd.read_csv('text/miyajima_sample.csv', encoding='utf-8',\n",
    "                 parse_dates=['旅行の時期'])\n",
    "\n",
    "nlp = spacy.load('ja_ginza')\n",
    "\n",
    "# 「した方がよい」が含まれる文を抽出\n",
    "print('●　「した方がよい」が含まれる文を抽出した結果')\n",
    "for doc in nlp.pipe(df['口コミ']):\n",
    "    for sent in doc.sents:\n",
    "        sent = sent.text\n",
    "        if re.search('した方がよい', sent):\n",
    "            print(sent)\n",
    "print('\\n')\n",
    "\n",
    "# 「注意して」が含まれる文を抽出\n",
    "print('●　「注意して」が含まれる文を抽出した結果')\n",
    "for doc in nlp.pipe(df['口コミ']):\n",
    "    for sent in doc.sents:\n",
    "        sent = sent.text\n",
    "        if re.search('注意して', sent):\n",
    "            print(sent)"
   ]
  },
  {
   "cell_type": "code",
   "execution_count": null,
   "metadata": {},
   "outputs": [],
   "source": []
  }
 ],
 "metadata": {
  "kernelspec": {
   "display_name": "Python 3 (ipykernel)",
   "language": "python",
   "name": "python3"
  },
  "language_info": {
   "codemirror_mode": {
    "name": "ipython",
    "version": 3
   },
   "file_extension": ".py",
   "mimetype": "text/x-python",
   "name": "python",
   "nbconvert_exporter": "python",
   "pygments_lexer": "ipython3",
   "version": "3.9.10"
  }
 },
 "nbformat": 4,
 "nbformat_minor": 4
}
