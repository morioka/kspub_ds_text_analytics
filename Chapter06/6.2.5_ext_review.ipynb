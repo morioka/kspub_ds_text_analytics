{
 "cells": [
  {
   "cell_type": "code",
   "execution_count": 1,
   "metadata": {
    "tags": []
   },
   "outputs": [
    {
     "name": "stdout",
     "output_type": "stream",
     "text": [
      "year review\n",
      "2021 鳥居を見ましたが、改修工事をしていたため全貌を見れず残念でした。\n",
      "2020 厳島神社の大鳥居が改装中で幕に覆われていたのは残念でしたが、その分、秋の行楽シーズンにしては空いていて本社拝殿をじっくり歩くことができました。\n",
      "2020 大鳥居が見えないのは残念ですが、夜は、保存修理中の大鳥居がライトアップされて金色に輝き、これはこれで貴重な景色だと思います。\n",
      "2019 ただ、観光のメインである大鳥居が修繕中だったのが残念でした。\n",
      "2019 鳥居が工事中で、記念撮影をしたかったですが、残念でした。\n",
      "2019 当時、厳島神社の大鳥居が工事中で残念でしたが、宮島花火大会名物の水上花火は圧巻の美しさでした。\n",
      "2019 友人は楽しんでいましたが、やはり目玉の鳥居を見ることができなかったのは残念です。\n",
      "2019 鳥居をメインに見に来ましたが干潮の時刻を過ぎていたため鳥居の真下までは行けなかったのと曇りだったのが少し残念でした。\n"
     ]
    }
   ],
   "source": [
    "# ext_review.py\n",
    "\n",
    "import re\n",
    "\n",
    "import spacy\n",
    "import pandas as pd\n",
    "\n",
    "# 口コミデータの読み込み\n",
    "df = pd.read_csv('text/miyajima_sample.csv', encoding='utf-8',\n",
    "                 parse_dates=['旅行の時期'])\n",
    "\n",
    "nlp = spacy.load('ja_ginza')\n",
    "\n",
    "# 「鳥居」と「残念」という単語が含まれている口コミを表示\n",
    "print('year', 'review')\n",
    "for doc in nlp.pipe(df['口コミ']):\n",
    "    for sent in doc.sents:\n",
    "        sent = sent.text\n",
    "        if re.search('鳥居', sent) and re.search('残念', sent):\n",
    "            date = df[df['口コミ'] == doc.text]['旅行の時期']\n",
    "            date = date.iloc[-1]\n",
    "            sent = re.sub('\\n', '', sent)\n",
    "            print(date.year, sent)"
   ]
  },
  {
   "cell_type": "code",
   "execution_count": null,
   "metadata": {},
   "outputs": [],
   "source": []
  }
 ],
 "metadata": {
  "kernelspec": {
   "display_name": "Python 3 (ipykernel)",
   "language": "python",
   "name": "python3"
  },
  "language_info": {
   "codemirror_mode": {
    "name": "ipython",
    "version": 3
   },
   "file_extension": ".py",
   "mimetype": "text/x-python",
   "name": "python",
   "nbconvert_exporter": "python",
   "pygments_lexer": "ipython3",
   "version": "3.9.10"
  }
 },
 "nbformat": 4,
 "nbformat_minor": 4
}
