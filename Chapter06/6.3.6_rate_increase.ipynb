{
 "cells": [
  {
   "cell_type": "code",
   "execution_count": 1,
   "metadata": {
    "tags": []
   },
   "outputs": [],
   "source": [
    "# rate_increase.py\n",
    "\n",
    "import spacy\n",
    "import pandas as pd\n",
    "from collections import Counter\n",
    "\n",
    "# 1. 口コミデータの読み込み\n",
    "df = pd.read_csv('text/usj.csv', encoding='utf-8',\n",
    "                 parse_dates=['旅行の時期'])\n",
    "\n",
    "# 口コミに含まれている空行を削除\n",
    "df['口コミ'] = df['口コミ'].replace('\\n+', '\\n', regex=True)\n",
    "\n",
    "# 旅行の時期が欠損している口コミを削除\n",
    "df = df.dropna(subset=['旅行の時期'])\n",
    "\n",
    "# 旅行の時期を年度に直し，「年度」という項目を追加\n",
    "df['年度'] = df['旅行の時期'].apply(lambda x: x.year if x.month >= 4 else x.year-1)\n",
    "\n",
    "# 2. 2013年度までの口コミと2014年度からの口コミに分割\n",
    "df2013 = df[(df['年度'] >= 2011) & (df['年度'] <= 2013)]\n",
    "df2014 = df[(df['年度'] >= 2014) & (df['年度'] <= 2018)]"
   ]
  },
  {
   "cell_type": "code",
   "execution_count": 2,
   "metadata": {
    "tags": []
   },
   "outputs": [],
   "source": [
    "nlp = spacy.load('ja_ginza')\n",
    "\n",
    "# 使用する単語の品詞とストップワードの指定\n",
    "include_pos = ('NOUN', 'PROPN')\n",
    "stopwords = ('こと', 'なし', 'ため', 'よう', 'ところ',\n",
    "             'もの', 'あと', 'さん', '以上', '以外')"
   ]
  },
  {
   "cell_type": "code",
   "execution_count": 3,
   "metadata": {
    "tags": []
   },
   "outputs": [],
   "source": [
    "# 3. 単語の頻度をカウントする関数を用意\n",
    "def count_words(df):\n",
    "    # 出現する単語をリストに追加\n",
    "    words = []\n",
    "    for doc in nlp.pipe(df['口コミ']):\n",
    "        words.extend([token.lemma_ for token in doc\n",
    "                      if token.pos_ in include_pos and\n",
    "                      token.lemma_ not in stopwords])\n",
    "\n",
    "    # 単語の頻度をカウント\n",
    "    counter = Counter(words)\n",
    "    \n",
    "    return counter"
   ]
  },
  {
   "cell_type": "code",
   "execution_count": 4,
   "metadata": {
    "tags": []
   },
   "outputs": [],
   "source": [
    "# 4. 2013年度までの口コミと2014年度からの口コミの単語の頻度をカウント\n",
    "counter2013 = count_words(df2013)   # 2013年度までの単語の頻度をカウント\n",
    "counter2014 = count_words(df2014)   # 2014年度からの単語の頻度をカウント"
   ]
  },
  {
   "cell_type": "code",
   "execution_count": 5,
   "metadata": {
    "tags": []
   },
   "outputs": [],
   "source": [
    "# 5. 単語の増加率を算出\n",
    "word2rate = Counter()                   # 単語と増加率を保存する辞書\n",
    "for word, count in counter2014.items():\n",
    "    if len(word) >= 2 and count >= 100:\n",
    "        if word in counter2013:\n",
    "            rate = count / counter2013[word]\n",
    "            if rate >= 3.0:\n",
    "                word2rate[word] = round(rate, 1)\n",
    "        else:\n",
    "            # 2013年度までの口コミに単語が出現しない場合は増加率を1000.0としておく\n",
    "            word2rate[word] = 1000.0"
   ]
  },
  {
   "cell_type": "code",
   "execution_count": 6,
   "metadata": {
    "tags": []
   },
   "outputs": [
    {
     "name": "stdout",
     "output_type": "stream",
     "text": [
      "    rate word\n",
      "  1000.0 ホグワーツ\n",
      "  1000.0 ミニオン\n",
      "  1000.0 バター\n",
      "   109.0 ハリポタ\n",
      "    65.5 ビール\n",
      "    53.6 ハリー\n",
      "    53.6 ポッター\n",
      "    20.4 整理券\n",
      "    16.5 エクスプレスパス\n",
      "    10.3 行列\n",
      "    10.2 エリア\n",
      "     9.2 入場\n",
      "     6.5 エクスプレス\n",
      "     6.3 本当\n",
      "     6.0 世界\n",
      "     5.4 お土産\n",
      "     5.4 事前\n",
      "     5.3 お金\n",
      "     5.2 雰囲気\n",
      "     4.9 購入\n",
      "     4.8 レストラン\n",
      "     4.8 人気\n",
      "     4.7 今回\n",
      "     4.7 値段\n",
      "     4.6 年パス\n",
      "     4.6 夕方\n",
      "     4.4 ディズニー\n",
      "     4.4 乗り物\n",
      "     4.4 待ち\n",
      "     4.4 混雑\n",
      "     4.3 時間\n",
      "     4.3 開園\n",
      "     4.2 映画\n",
      "     4.1 チケット\n",
      "     4.1 ハロウィン\n",
      "     4.0 パーク\n",
      "     4.0 食事\n",
      "     4.0 時期\n",
      "     4.0 有料\n",
      "     4.0 ホテル\n",
      "     3.9 USJ\n",
      "     3.9 感じ\n",
      "     3.9 ライド\n",
      "     3.9 スタッフ\n",
      "     3.8 家族\n",
      "     3.7 テーマ\n",
      "     3.7 アトラクション\n",
      "     3.7 パス\n",
      "     3.7 クリスマス\n",
      "     3.7 ゾンビ\n",
      "     3.5 ジュラシック\n",
      "     3.4 場所\n",
      "     3.4 大阪\n",
      "     3.3 一度\n",
      "     3.3 イベント\n",
      "     3.1 ファストパス\n",
      "     3.1 平日\n"
     ]
    }
   ],
   "source": [
    "# 6. 単語の増加率を表示\n",
    "print('    rate word')\n",
    "for word, rate in word2rate.most_common():\n",
    "    print(f'{rate:>8} {word}')"
   ]
  },
  {
   "cell_type": "code",
   "execution_count": null,
   "metadata": {},
   "outputs": [],
   "source": []
  }
 ],
 "metadata": {
  "kernelspec": {
   "display_name": "Python 3 (ipykernel)",
   "language": "python",
   "name": "python3"
  },
  "language_info": {
   "codemirror_mode": {
    "name": "ipython",
    "version": 3
   },
   "file_extension": ".py",
   "mimetype": "text/x-python",
   "name": "python",
   "nbconvert_exporter": "python",
   "pygments_lexer": "ipython3",
   "version": "3.9.10"
  }
 },
 "nbformat": 4,
 "nbformat_minor": 4
}
