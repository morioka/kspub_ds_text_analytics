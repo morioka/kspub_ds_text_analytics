{
 "cells": [
  {
   "cell_type": "code",
   "execution_count": null,
   "id": "f40343e5",
   "metadata": {
    "tags": []
   },
   "outputs": [],
   "source": [
    "#venv等で仮想環境を構築することをおすすめします．\n",
    "!pip install ja-ginza-electra==5.1.0 ipywidgets  openpyxl pandas"
   ]
  },
  {
   "cell_type": "code",
   "execution_count": null,
   "id": "f2b3ccbf",
   "metadata": {
    "tags": []
   },
   "outputs": [],
   "source": [
    "## Chapter04から使用するテキストデータをコピーする（事前にChapter04/Sentiment.ipynbを実行してください）\n",
    "!cp -r ../../Chapter04/sisyou_db ./"
   ]
  },
  {
   "cell_type": "code",
   "execution_count": 7,
   "id": "60ec24aa",
   "metadata": {
    "tags": []
   },
   "outputs": [],
   "source": [
    "import os\n",
    "import time\n",
    "\n",
    "import pandas as pd\n",
    "import requests\n",
    "import spacy\n",
    "\n",
    "## モデルのロード\n",
    "nlp = spacy.load(\"ja_ginza_electra\")\n",
    "data_dir = \"sisyou_db\""
   ]
  },
  {
   "cell_type": "code",
   "execution_count": 4,
   "id": "0939df3f",
   "metadata": {},
   "outputs": [
    {
     "name": "stdout",
     "output_type": "stream",
     "text": [
      "sisyou_db/sisyou_db_h28_01.xlsx\n",
      "sisyou_db/sisyou_db_h28_02.xlsx\n",
      "sisyou_db/sisyou_db_h28_03.xlsx\n",
      "sisyou_db/sisyou_db_h28_04.xlsx\n",
      "sisyou_db/sisyou_db_h28_05.xlsx\n",
      "sisyou_db/sisyou_db_h28_06.xlsx\n",
      "sisyou_db/sisyou_db_h28_07.xlsx\n",
      "sisyou_db/sisyou_db_h28_08.xlsx\n",
      "sisyou_db/sisyou_db_h28_09.xlsx\n",
      "sisyou_db/sisyou_db_h28_10.xlsx\n",
      "sisyou_db/sisyou_db_h28_11.xlsx\n",
      "sisyou_db/sisyou_db_h28_12.xlsx\n",
      "sisyou_db/sisyou_db_h29_01.xlsx\n",
      "sisyou_db/sisyou_db_h29_02.xlsx\n",
      "sisyou_db/sisyou_db_h29_03.xlsx\n",
      "sisyou_db/sisyou_db_h29_04.xlsx\n",
      "sisyou_db/sisyou_db_h29_05.xlsx\n",
      "sisyou_db/sisyou_db_h29_06.xlsx\n",
      "sisyou_db/sisyou_db_h29_07.xlsx\n",
      "sisyou_db/sisyou_db_h29_08.xlsx\n",
      "sisyou_db/sisyou_db_h29_09.xlsx\n",
      "sisyou_db/sisyou_db_h29_10.xlsx\n",
      "sisyou_db/sisyou_db_h29_11.xlsx\n",
      "sisyou_db/sisyou_db_h29_12.xlsx\n"
     ]
    }
   ],
   "source": [
    "# 1.労災データベースからのファイルダウンロード\n",
    "## 労働災害データベースからのダウンロードを下記で行っていますが、\n",
    "## 本NotebookでははChapter04からコピーしているため、ダウンロード自体は行われません。\n",
    "if not os.path.exists(data_dir):\n",
    "    os.makedirs(data_dir)\n",
    "\n",
    "years = [28, 29]\n",
    "months = list(range(1, 13))\n",
    "\n",
    "for y in years:\n",
    "    for m in months:\n",
    "        file_name = f\"{data_dir}/sisyou_db_h{y}_{m:02d}.xlsx\"\n",
    "        print(file_name)\n",
    "        if not os.path.exists(file_name):\n",
    "            file_url = f\"https://anzeninfo.mhlw.go.jp/anzen/shisyo_xls/sisyou_db_h{y}_{m:02d}.xlsx\"\n",
    "            res = requests.get(file_url)\n",
    "            with open(file_name, 'wb') as f:\n",
    "                f.write(res.content)\n",
    "            time.sleep(2)    "
   ]
  },
  {
   "cell_type": "code",
   "execution_count": 8,
   "id": "a11b1ebb",
   "metadata": {},
   "outputs": [],
   "source": [
    "# 2. 分類対象データの読み込み\n",
    "## 労災データの読み込み\n",
    "def read_rousai_db(data_dir, year_months):\n",
    "    dfs = []\n",
    "    for y, m in year_months:\n",
    "        file_name = f\"{data_dir}/sisyou_db_h{y}_{m:02d}.xlsx\"\n",
    "        df = pd.read_excel(file_name, skiprows=[1])\n",
    "        dfs.append(df)\n",
    "\n",
    "    df_ret = pd.concat(dfs)\n",
    "    df_ret = df_ret.rename(columns={\"事故の型\": \"事故の型_コード\",\n",
    "                                    \"Unnamed: 20\": \"事故の型_名前\"})\n",
    "    return df_ret\n",
    "\n",
    "## 訓練データ・テストデータの読み込み\n",
    "year_months_train = [(28, m) for m in months]\n",
    "year_months_dev = [(29, 1)]\n",
    "year_months_test = [(29, 2)]\n",
    "df_train = read_rousai_db(data_dir, year_months_train)\n",
    "df_dev = read_rousai_db(data_dir, year_months_dev)\n",
    "df_test = read_rousai_db(data_dir, year_months_test)"
   ]
  },
  {
   "cell_type": "code",
   "execution_count": 9,
   "id": "47717aa0",
   "metadata": {},
   "outputs": [
    {
     "name": "stdout",
     "output_type": "stream",
     "text": [
      "['転倒', '墜落、転落', '動作の反動、無理な動作', 'はさまれ、巻き込まれ', '切れ、こすれ', '交通事故（道路）', '飛来、落下', '激突', '激突され', '高温・低温の物との接触']\n"
     ]
    }
   ],
   "source": [
    "# 3.分類クラスを頻度上位10クラス+それ以外の11クラスに絞り込み\n",
    "names = df_train[\"事故の型_名前\"].unique()\n",
    "top10_category = df_train[\"事故の型_名前\"].value_counts()[0:10].index.to_list()\n",
    "name2label = {name: top10_category.index(name) if name in top10_category else len(top10_category) for i, name in enumerate(names)}\n",
    "print(top10_category)\n"
   ]
  },
  {
   "cell_type": "code",
   "execution_count": 10,
   "id": "c3f378e9",
   "metadata": {},
   "outputs": [],
   "source": [
    "# 4.spaCy Command Line Interface 用の訓練データ・テストデータのファイルを生成\n",
    "from spacy.tokens import DocBin\n",
    "\n",
    "def convert_docs(df_target, dic_label):\n",
    "    list_docs = []\n",
    "    for index, entry in df_target.iterrows():\n",
    "        doc = nlp.make_doc(entry[\"災害状況\"])\n",
    "        for label,val in dic_label.items():\n",
    "            if(label == entry[\"事故の型_名前\"]):\n",
    "                doc.cats[str(val)] = 1\n",
    "            else:\n",
    "                doc.cats[str(val)] = 0\n",
    "\n",
    "        list_docs.append(doc)\n",
    "    return list_docs\n",
    "\n",
    "docs_train = convert_docs(df_train, name2label)\n",
    "doc_bin_train = DocBin(docs=docs_train)\n",
    "doc_bin_train.to_disk(\"./train_ja.spacy\")\n",
    "\n",
    "docs_dev = convert_docs(df_dev, name2label)\n",
    "doc_bin_dev = DocBin(docs=docs_dev)\n",
    "doc_bin_dev.to_disk(\"./dev_ja.spacy\")"
   ]
  },
  {
   "cell_type": "code",
   "execution_count": null,
   "id": "ccbf3a55",
   "metadata": {},
   "outputs": [],
   "source": [
    "# 5.分類器の学習を実行 => 文書分類モデルを./rousai_classifier　に保存\n",
    "## configファイルの生成\n",
    "!python -m spacy init fill-config ./base_ginza_textcat.cfg ./ginza_textcat.cfg\n",
    "## 訓練の実行\n",
    "!python -m spacy train ./ginza_textcat.cfg --output ./rousai_classifier"
   ]
  },
  {
   "cell_type": "code",
   "execution_count": null,
   "id": "d7843943",
   "metadata": {},
   "outputs": [],
   "source": [
    "# 6.性能がベストだった文書分類モデルを読み込み、評価用データに適用\n",
    "nlp_best = spacy.load(\"rousai_classifier/model-best\")\n",
    "counter = 0\n",
    "prec = 0\n",
    "for index, entry in df_test.iterrows():\n",
    "    doc = nlp_best(entry[\"災害状況\"])\n",
    "    label = entry[\"事故の型_名前\"]\n",
    "\n",
    "    ## 1番スコアの高いクラスを予測値とする\n",
    "    for k,v in sorted(doc.cats.items(),key=lambda x:x[1],reverse=True):\n",
    "        toprank = int(k)\n",
    "        break\n",
    "    ## 評価用データのラベルを分類クラスIDに変換\n",
    "    answer = name2label[label]\n",
    "\n",
    "    if toprank == answer:\n",
    "        prec += 1\n",
    "    counter += 1\n",
    "\n",
    "print(\"{}({}/{})\".format(prec/counter,prec,counter))"
   ]
  }
 ],
 "metadata": {
  "interpreter": {
   "hash": "3e1ac54945653f64782d1c43377b083b039c98d0e8056a0d8c72aa29f61e062d"
  },
  "kernelspec": {
   "display_name": "Python 3 (ipykernel)",
   "language": "python",
   "name": "python3"
  },
  "language_info": {
   "codemirror_mode": {
    "name": "ipython",
    "version": 3
   },
   "file_extension": ".py",
   "mimetype": "text/x-python",
   "name": "python",
   "nbconvert_exporter": "python",
   "pygments_lexer": "ipython3",
   "version": "3.9.10"
  }
 },
 "nbformat": 4,
 "nbformat_minor": 5
}
