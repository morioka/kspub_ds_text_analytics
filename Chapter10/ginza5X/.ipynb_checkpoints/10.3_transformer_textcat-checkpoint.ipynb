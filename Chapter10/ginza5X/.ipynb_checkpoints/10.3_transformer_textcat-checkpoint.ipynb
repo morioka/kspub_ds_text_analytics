{
 "cells": [
  {
   "cell_type": "code",
   "execution_count": null,
   "id": "f40343e5",
   "metadata": {},
   "outputs": [],
   "source": [
    "# 実行には，spaCy3.X and GiNZA 5.Xが必要です。venv等で仮想環境を構築することをおすすめします．\n",
    "!python -m venv ginza5X\n",
    "!source ginza5X/bin/activate\n",
    "!pip install ja-ginza-electra requests pandas jupyterlab ipywidgets openpyxl\n",
    "!jupyter-lab"
   ]
  },
  {
   "cell_type": "code",
   "execution_count": 1,
   "id": "f2b3ccbf",
   "metadata": {},
   "outputs": [],
   "source": [
    "## Chapter04から使用するテキストデータをコピーする（事前にChapter04/Sentiment.ipynbを実行してください）\n",
    "!cp -r ../../Chapter04/sisyou_db ./"
   ]
  },
  {
   "cell_type": "code",
   "execution_count": 2,
   "id": "60ec24aa",
   "metadata": {},
   "outputs": [
    {
     "name": "stderr",
     "output_type": "stream",
     "text": [
      "Cannot find the requested files in the cached path and outgoing traffic has been disabled. To enable model look-ups and downloads online, set 'local_files_only' to False.\n",
      "trying to download model from huggingface hub: megagonlabs/transformers-ud-japanese-electra-base-ginza-510 ...\n"
     ]
    },
    {
     "data": {
      "application/vnd.jupyter.widget-view+json": {
       "model_id": "40f0e1dc6db14afbafbc31e13b804c0e",
       "version_major": 2,
       "version_minor": 0
      },
      "text/plain": [
       "Downloading:   0%|          | 0.00/815 [00:00<?, ?B/s]"
      ]
     },
     "metadata": {},
     "output_type": "display_data"
    },
    {
     "data": {
      "application/vnd.jupyter.widget-view+json": {
       "model_id": "e2e39ffe341342c1815e9cfbcbb43a47",
       "version_major": 2,
       "version_minor": 0
      },
      "text/plain": [
       "Downloading:   0%|          | 0.00/414M [00:00<?, ?B/s]"
      ]
     },
     "metadata": {},
     "output_type": "display_data"
    },
    {
     "name": "stderr",
     "output_type": "stream",
     "text": [
      "succeded\n"
     ]
    }
   ],
   "source": [
    "import os\n",
    "import time\n",
    "\n",
    "import pandas as pd\n",
    "import requests\n",
    "import spacy\n",
    "\n",
    "## モデルのロード\n",
    "nlp = spacy.load(\"ja_ginza_electra\")\n",
    "data_dir = \"sisyou_db\""
   ]
  },
  {
   "cell_type": "code",
   "execution_count": 3,
   "id": "0939df3f",
   "metadata": {},
   "outputs": [
    {
     "name": "stdout",
     "output_type": "stream",
     "text": [
      "sisyou_db/sisyou_db_h28_01.xlsx\n",
      "sisyou_db/sisyou_db_h28_02.xlsx\n",
      "sisyou_db/sisyou_db_h28_03.xlsx\n",
      "sisyou_db/sisyou_db_h28_04.xlsx\n",
      "sisyou_db/sisyou_db_h28_05.xlsx\n",
      "sisyou_db/sisyou_db_h28_06.xlsx\n",
      "sisyou_db/sisyou_db_h28_07.xlsx\n",
      "sisyou_db/sisyou_db_h28_08.xlsx\n",
      "sisyou_db/sisyou_db_h28_09.xlsx\n",
      "sisyou_db/sisyou_db_h28_10.xlsx\n",
      "sisyou_db/sisyou_db_h28_11.xlsx\n",
      "sisyou_db/sisyou_db_h28_12.xlsx\n",
      "sisyou_db/sisyou_db_h29_01.xlsx\n",
      "sisyou_db/sisyou_db_h29_02.xlsx\n",
      "sisyou_db/sisyou_db_h29_03.xlsx\n",
      "sisyou_db/sisyou_db_h29_04.xlsx\n",
      "sisyou_db/sisyou_db_h29_05.xlsx\n",
      "sisyou_db/sisyou_db_h29_06.xlsx\n",
      "sisyou_db/sisyou_db_h29_07.xlsx\n",
      "sisyou_db/sisyou_db_h29_08.xlsx\n",
      "sisyou_db/sisyou_db_h29_09.xlsx\n",
      "sisyou_db/sisyou_db_h29_10.xlsx\n",
      "sisyou_db/sisyou_db_h29_11.xlsx\n",
      "sisyou_db/sisyou_db_h29_12.xlsx\n"
     ]
    }
   ],
   "source": [
    "# 1.労災データベースからのファイルダウンロード\n",
    "## 労働災害データベースからのダウンロードを下記で行っていますが、\n",
    "## 本NotebookでははChapter04からコピーしているため、ダウンロード自体は行われません。\n",
    "if not os.path.exists(data_dir):\n",
    "    os.makedirs(data_dir)\n",
    "\n",
    "years = [28, 29]\n",
    "months = list(range(1, 13))\n",
    "\n",
    "for y in years:\n",
    "    for m in months:\n",
    "        file_name = f\"{data_dir}/sisyou_db_h{y}_{m:02d}.xlsx\"\n",
    "        print(file_name)\n",
    "        if not os.path.exists(file_name):\n",
    "            file_url = f\"https://anzeninfo.mhlw.go.jp/anzen/shisyo_xls/sisyou_db_h{y}_{m:02d}.xlsx\"\n",
    "            res = requests.get(file_url)\n",
    "            with open(file_name, 'wb') as f:\n",
    "                f.write(res.content)\n",
    "            time.sleep(2)    "
   ]
  },
  {
   "cell_type": "code",
   "execution_count": 4,
   "id": "a11b1ebb",
   "metadata": {},
   "outputs": [],
   "source": [
    "# 2. 分類対象データの読み込み\n",
    "## 労災データの読み込み\n",
    "def read_rousai_db(data_dir, year_months):\n",
    "    dfs = []\n",
    "    for y, m in year_months:\n",
    "        file_name = f\"{data_dir}/sisyou_db_h{y}_{m:02d}.xlsx\"\n",
    "        df = pd.read_excel(file_name, skiprows=[1])\n",
    "        dfs.append(df)\n",
    "\n",
    "    df_ret = pd.concat(dfs)\n",
    "    df_ret = df_ret.rename(columns={\"事故の型\": \"事故の型_コード\",\n",
    "                                    \"Unnamed: 20\": \"事故の型_名前\"})\n",
    "    return df_ret\n",
    "\n",
    "## 訓練データ・テストデータの読み込み\n",
    "year_months_train = [(28, m) for m in months]\n",
    "year_months_dev = [(29, 1)]\n",
    "year_months_test = [(29, 2)]\n",
    "df_train = read_rousai_db(data_dir, year_months_train)\n",
    "df_dev = read_rousai_db(data_dir, year_months_dev)\n",
    "df_test = read_rousai_db(data_dir, year_months_test)"
   ]
  },
  {
   "cell_type": "code",
   "execution_count": 5,
   "id": "47717aa0",
   "metadata": {},
   "outputs": [
    {
     "name": "stdout",
     "output_type": "stream",
     "text": [
      "['転倒', '墜落、転落', '動作の反動、無理な動作', 'はさまれ、巻き込まれ', '切れ、こすれ', '交通事故（道路）', '飛来、落下', '激突', '激突され', '高温・低温の物との接触']\n"
     ]
    }
   ],
   "source": [
    "# 3.分類クラスを頻度上位10クラス+それ以外の11クラスに絞り込み\n",
    "names = df_train[\"事故の型_名前\"].unique()\n",
    "top10_category = df_train[\"事故の型_名前\"].value_counts()[0:10].index.to_list()\n",
    "name2label = {name: top10_category.index(name) if name in top10_category else len(top10_category) for i, name in enumerate(names)}\n",
    "print(top10_category)\n"
   ]
  },
  {
   "cell_type": "code",
   "execution_count": 6,
   "id": "c3f378e9",
   "metadata": {},
   "outputs": [],
   "source": [
    "# 4.spaCy Command Line Interface 用の訓練データ・テストデータのファイルを生成\n",
    "from spacy.tokens import DocBin\n",
    "\n",
    "def convert_docs(df_target, dic_label):\n",
    "    list_docs = []\n",
    "    for index, entry in df_target.iterrows():\n",
    "        doc = nlp.make_doc(entry[\"災害状況\"])\n",
    "        for label,val in dic_label.items():\n",
    "            if(label == entry[\"事故の型_名前\"]):\n",
    "                doc.cats[str(val)] = 1\n",
    "            else:\n",
    "                doc.cats[str(val)] = 0\n",
    "\n",
    "        list_docs.append(doc)\n",
    "    return list_docs\n",
    "\n",
    "docs_train = convert_docs(df_train, name2label)\n",
    "doc_bin_train = DocBin(docs=docs_train)\n",
    "doc_bin_train.to_disk(\"./train_ja.spacy\")\n",
    "\n",
    "docs_dev = convert_docs(df_dev, name2label)\n",
    "doc_bin_dev = DocBin(docs=docs_dev)\n",
    "doc_bin_dev.to_disk(\"./dev_ja.spacy\")"
   ]
  },
  {
   "cell_type": "code",
   "execution_count": 7,
   "id": "ccbf3a55",
   "metadata": {},
   "outputs": [
    {
     "name": "stdout",
     "output_type": "stream",
     "text": [
      "\u001b[38;5;2m✔ Auto-filled config with all values\u001b[0m\n",
      "\u001b[38;5;2m✔ Saved config\u001b[0m\n",
      "ginza_textcat.cfg\n",
      "You can now add your data and train your pipeline:\n",
      "python -m spacy train ginza_textcat.cfg --paths.train ./train.spacy --paths.dev ./dev.spacy\n",
      "\u001b[38;5;2m✔ Created output directory: rousai_classifier\u001b[0m\n",
      "\u001b[38;5;4mℹ Saving to output directory: rousai_classifier\u001b[0m\n",
      "\u001b[38;5;4mℹ Using CPU\u001b[0m\n",
      "\u001b[1m\n",
      "=========================== Initializing pipeline ===========================\u001b[0m\n",
      "[2022-03-09 17:46:08,061] [INFO] Set up nlp object from config\n",
      "[2022-03-09 17:46:08,066] [INFO] Pipeline: ['textcat']\n",
      "[2022-03-09 17:46:08,067] [INFO] Created vocabulary\n",
      "[2022-03-09 17:46:08,068] [INFO] Finished initializing nlp object\n",
      "[2022-03-09 17:47:09,503] [INFO] Initialized pipeline components: ['textcat']\n",
      "\u001b[38;5;2m✔ Initialized pipeline\u001b[0m\n",
      "\u001b[1m\n",
      "============================= Training pipeline =============================\u001b[0m\n",
      "\u001b[38;5;4mℹ Pipeline: ['textcat']\u001b[0m\n",
      "\u001b[38;5;4mℹ Initial learn rate: 0.0\u001b[0m\n",
      "E    #       LOSS TEXTCAT  CATS_SCORE  SCORE \n",
      "---  ------  ------------  ----------  ------\n",
      "  0       0          0.23        0.00    0.00\n",
      "  0     200        103.83        0.00    0.00\n",
      "  0     400         82.98        0.00    0.00\n",
      "  0     600         83.59        0.02    0.00\n",
      "  0     800         78.34        0.02    0.00\n",
      "  1    1000         85.96        0.17    0.00\n",
      "  1    1200         90.51        0.65    0.01\n",
      "  1    1400         76.80        1.47    0.01\n",
      "  1    1600         63.34        2.94    0.03\n",
      "  1    1800         71.42        4.36    0.04\n",
      "  2    2000         65.30        6.22    0.06\n",
      "  2    2200         60.52        8.42    0.08\n",
      "  2    2400         68.14       10.35    0.10\n",
      "  2    2600         77.77       12.16    0.12\n",
      "  3    2800         68.28       14.66    0.15\n",
      "  3    3000         63.01       16.18    0.16\n",
      "  3    3200         56.90       17.71    0.18\n",
      "  3    3400         60.25       19.46    0.19\n",
      "  3    3600         59.47       21.33    0.21\n",
      "  4    3800         62.87       23.07    0.23\n",
      "  4    4000         60.38       24.64    0.25\n",
      "  4    4200         56.02       25.97    0.26\n",
      "  4    4400         49.81       27.14    0.27\n",
      "  5    4600         63.56       28.50    0.29\n",
      "  5    4800         55.70       29.09    0.29\n",
      "  5    5000         55.53       29.88    0.30\n",
      "  5    5200         51.97       30.70    0.31\n",
      "  5    5400         44.43       31.77    0.32\n",
      "  6    5600         49.35       32.52    0.33\n",
      "  6    5800         43.84       32.88    0.33\n",
      "  6    6000         49.73       33.36    0.33\n",
      "  6    6200         39.01       33.63    0.34\n",
      "  7    6400         52.90       34.14    0.34\n",
      "  7    6600         53.88       34.63    0.35\n",
      "  7    6800         52.16       34.95    0.35\n",
      "  7    7000         42.92       35.17    0.35\n",
      "  7    7200         44.05       35.67    0.36\n",
      "  8    7400         46.70       35.88    0.36\n",
      "  8    7600         39.72       36.08    0.36\n",
      "  8    7800         51.18       36.26    0.36\n",
      "  8    8000         59.46       36.64    0.37\n",
      "  9    8200         39.77       36.78    0.37\n",
      "  9    8400         43.88       37.21    0.37\n",
      "  9    8600         44.69       37.36    0.37\n",
      "  9    8800         46.94       37.44    0.37\n",
      "  9    9000         49.94       37.61    0.38\n",
      " 10    9200         47.95       37.82    0.38\n",
      " 10    9400         41.17       37.89    0.38\n",
      " 10    9600         47.82       37.95    0.38\n",
      " 10    9800         42.43       38.05    0.38\n",
      " 11   10000         41.22       38.34    0.38\n",
      " 11   10200         45.78       38.48    0.38\n",
      " 11   10400         39.00       38.76    0.39\n",
      " 11   10600         39.55       38.70    0.39\n",
      " 11   10800         42.74       38.92    0.39\n",
      " 12   11000         48.38       39.03    0.39\n",
      " 12   11200         48.57       38.98    0.39\n",
      " 12   11400         38.70       39.02    0.39\n",
      " 12   11600         42.95       39.21    0.39\n",
      " 13   11800         37.49       39.55    0.40\n",
      " 13   12000         40.13       39.59    0.40\n",
      " 13   12200         38.53       39.68    0.40\n",
      " 13   12400         47.08       39.76    0.40\n",
      " 13   12600         34.89       39.73    0.40\n",
      " 14   12800         36.34       39.85    0.40\n",
      " 14   13000         36.90       39.83    0.40\n",
      " 14   13200         45.40       39.88    0.40\n",
      " 14   13400         43.33       39.95    0.40\n",
      " 15   13600         36.39       40.18    0.40\n",
      " 15   13800         42.60       40.13    0.40\n",
      " 15   14000         37.09       40.18    0.40\n",
      " 15   14200         38.12       40.20    0.40\n",
      " 15   14400         40.56       40.16    0.40\n",
      " 16   14600         44.36       40.16    0.40\n",
      " 16   14800         32.82       40.16    0.40\n",
      " 16   15000         34.18       40.14    0.40\n",
      " 16   15200         30.19       40.23    0.40\n",
      " 17   15400         35.56       40.27    0.40\n",
      " 17   15600         38.85       40.26    0.40\n",
      " 17   15800         39.36       40.26    0.40\n",
      " 17   16000         39.15       40.28    0.40\n",
      " 17   16200         40.13       40.34    0.40\n",
      " 18   16400         37.01       40.34    0.40\n",
      " 18   16600         43.05       40.28    0.40\n",
      " 18   16800         50.96       40.26    0.40\n",
      " 18   17000         42.80       40.31    0.40\n",
      " 19   17200         38.51       40.34    0.40\n",
      " 19   17400         32.30       40.30    0.40\n",
      " 19   17600         36.38       40.35    0.40\n",
      " 19   17800         42.02       40.49    0.40\n",
      " 19   18000         42.07       40.45    0.40\n",
      " 20   18200         32.31       40.47    0.40\n",
      " 20   18400         51.91       40.46    0.40\n",
      " 20   18600         35.05       40.48    0.40\n",
      " 20   18800         38.94       40.49    0.40\n",
      " 21   19000         28.22       40.55    0.41\n",
      " 21   19200         42.88       40.50    0.41\n",
      " 21   19400         35.42       40.57    0.41\n",
      " 21   19600         35.64       40.58    0.41\n",
      " 21   19800         39.96       40.57    0.41\n",
      " 22   20000         36.70       40.57    0.41\n",
      "\u001b[38;5;2m✔ Saved pipeline to output directory\u001b[0m\n",
      "rousai_classifier/model-last\n"
     ]
    }
   ],
   "source": [
    "# 5.分類器の学習を実行 => 文書分類モデルを./rousai_classifier　に保存\n",
    "## configファイルの生成\n",
    "!python -m spacy init fill-config ./base_ginza_textcat.cfg ./ginza_textcat.cfg\n",
    "## 訓練の実行\n",
    "!python -m spacy train ./ginza_textcat.cfg --output ./rousai_classifier"
   ]
  },
  {
   "cell_type": "code",
   "execution_count": 8,
   "id": "d7843943",
   "metadata": {},
   "outputs": [
    {
     "name": "stdout",
     "output_type": "stream",
     "text": [
      "0.7385776718315455(1859/2517)\n"
     ]
    }
   ],
   "source": [
    "# 6.性能がベストだった文書分類モデルを読み込み、評価用データに適用\n",
    "nlp_best = spacy.load(\"rousai_classifier/model-best\")\n",
    "counter = 0\n",
    "prec = 0\n",
    "for index, entry in df_test.iterrows():\n",
    "    doc = nlp_best(entry[\"災害状況\"])\n",
    "    label = entry[\"事故の型_名前\"]\n",
    "\n",
    "    ## 1番スコアの高いクラスを予測値とする\n",
    "    for k,v in sorted(doc.cats.items(),key=lambda x:x[1],reverse=True):\n",
    "        toprank = int(k)\n",
    "        break\n",
    "    ## 評価用データのラベルを分類クラスIDに変換\n",
    "    answer = name2label[label]\n",
    "\n",
    "    if toprank == answer:\n",
    "        prec += 1\n",
    "    counter += 1\n",
    "\n",
    "print(\"{}({}/{})\".format(prec/counter,prec,counter))"
   ]
  }
 ],
 "metadata": {
  "interpreter": {
   "hash": "3e1ac54945653f64782d1c43377b083b039c98d0e8056a0d8c72aa29f61e062d"
  },
  "kernelspec": {
   "display_name": "Python 3 (ipykernel)",
   "language": "python",
   "name": "python3"
  },
  "language_info": {
   "codemirror_mode": {
    "name": "ipython",
    "version": 3
   },
   "file_extension": ".py",
   "mimetype": "text/x-python",
   "name": "python",
   "nbconvert_exporter": "python",
   "pygments_lexer": "ipython3",
   "version": "3.9.5"
  }
 },
 "nbformat": 4,
 "nbformat_minor": 5
}
