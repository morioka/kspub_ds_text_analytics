{
 "cells": [
  {
   "cell_type": "markdown",
   "id": "18aa6dbf-9b62-46ad-973f-7e219f041738",
   "metadata": {
    "tags": []
   },
   "source": [
    "# 可視化"
   ]
  },
  {
   "cell_type": "markdown",
   "id": "b568f683-2ab8-4b28-9ec6-5ba3d80a01d3",
   "metadata": {
    "tags": []
   },
   "source": [
    "## wordcloudの表示"
   ]
  },
  {
   "cell_type": "markdown",
   "id": "e6a94017-3c3f-4af3-a808-75832d0dba69",
   "metadata": {
    "jp-MarkdownHeadingCollapsed": true,
    "tags": []
   },
   "source": [
    "このセルの実行には，「ginzaの使い方」ノートブックにある，「パッケージのインストール」と「解析対象のデータをダウンロード」を予め実行しておく必要がある．"
   ]
  },
  {
   "cell_type": "code",
   "execution_count": 1,
   "id": "99748962-a10e-4523-a53b-90b1dbe8fa61",
   "metadata": {
    "tags": []
   },
   "outputs": [],
   "source": [
    "import re\n",
    "import sys\n",
    "import matplotlib.pyplot as plt\n",
    "import spacy\n",
    "import wordcloud\n",
    "%matplotlib inline\n",
    "\n",
    "input_fn = 'text/kageotoko.corpus.txt'\n",
    "\n",
    "include_pos = ('NOUN', 'VERB', 'ADJ')\n",
    "stopwords = ('する', 'ある', 'ない', 'いう', 'もの', 'こと', 'よう', 'なる', 'ほう')\n",
    "\n",
    "nlp = spacy.load(\"ja_ginza\")"
   ]
  },
  {
   "cell_type": "code",
   "execution_count": null,
   "id": "10b091f1-d11a-4ea4-8f36-e568430c8fde",
   "metadata": {
    "tags": []
   },
   "outputs": [],
   "source": [
    "def chunk(lst, n):\n",
    "    \"\"\"\n",
    "    リストをn個ずつのサブリストに分割する。\n",
    "    \"\"\"\n",
    "    return [lst[i:i+n] for i in range(0, len(lst), n)]\n",
    "\n",
    "\n",
    "with open(input_fn, 'r') as f:\n",
    "    lines = [l.replace(\"\\n\",\"\") for l in f.readlines()]\n",
    "\n",
    "\n",
    "lst_texts = chunk(lines,100)\n",
    "lst_tokens = []\n",
    "for text in lst_texts:\n",
    "    doc = nlp(\" \".join(text))\n",
    "    lst_tokens.extend([\n",
    "        token.lemma_ for token in doc\n",
    "        if token.pos_ in include_pos and token.lemma_ not in stopwords\n",
    "    ])\n",
    "\n",
    "\n",
    "wc = wordcloud.WordCloud(\n",
    "    background_color='white',\n",
    "    font_path='fonts/IPAexfont00401/ipaexg.ttf',\n",
    "    max_font_size=100)\n",
    "img = wc.generate(' '.join(lst_tokens))\n",
    "\n",
    "plt.figure(figsize=(8, 4))\n",
    "plt.imshow(img, interpolation='bilinear')\n",
    "plt.axis(\"off\")\n",
    "plt.tight_layout(pad=0)\n",
    "plt.show()"
   ]
  }
 ],
 "metadata": {
  "kernelspec": {
   "display_name": "Python 3 (ipykernel)",
   "language": "python",
   "name": "python3"
  },
  "language_info": {
   "codemirror_mode": {
    "name": "ipython",
    "version": 3
   },
   "file_extension": ".py",
   "mimetype": "text/x-python",
   "name": "python",
   "nbconvert_exporter": "python",
   "pygments_lexer": "ipython3",
   "version": "3.9.10"
  }
 },
 "nbformat": 4,
 "nbformat_minor": 5
}
