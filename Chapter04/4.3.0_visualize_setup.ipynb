{
 "cells": [
  {
   "cell_type": "markdown",
   "id": "18aa6dbf-9b62-46ad-973f-7e219f041738",
   "metadata": {
    "tags": []
   },
   "source": [
    "# 可視化"
   ]
  },
  {
   "cell_type": "markdown",
   "id": "f4d5851a-873e-436e-a03e-a0a697f406f2",
   "metadata": {
    "tags": []
   },
   "source": [
    "## パッケージのインストール"
   ]
  },
  {
   "cell_type": "code",
   "execution_count": null,
   "id": "c28b4651-c440-4721-b260-5ab1859274ee",
   "metadata": {
    "tags": []
   },
   "outputs": [],
   "source": [
    "!pip install wordcloud sklearn networkx pyvis japanize-matplotlib"
   ]
  },
  {
   "cell_type": "markdown",
   "id": "6f00372c-764f-4ada-bcb6-38350a885109",
   "metadata": {
    "tags": []
   },
   "source": [
    "## フォントのダウンロード"
   ]
  },
  {
   "cell_type": "markdown",
   "id": "d900468d-405b-46e4-a4c6-cb573f1b9bf8",
   "metadata": {
    "tags": []
   },
   "source": [
    "グラフィック用の日本語フォントをIPAからダウンロードし，fontsディレクトリに配置．\n",
    "> fonts/IPAexfont00401/ipaexg.ttf (IPAexゴシック) <br/>\n",
    "> fonts/IPAexfont00401/ipaexm.ttf (IPAex明朝)"
   ]
  },
  {
   "cell_type": "code",
   "execution_count": null,
   "id": "f544c6c2-df46-45f2-b61a-c19b88a5483b",
   "metadata": {
    "tags": []
   },
   "outputs": [],
   "source": [
    "!wget -c https://moji.or.jp/wp-content/ipafont/IPAexfont/IPAexfont00401.zip\n",
    "!mkdir -p fonts\n",
    "!unzip -d fonts -o IPAexfont00401.zip\n",
    "!rm -f IPAexfont00401.zip"
   ]
  }
 ],
 "metadata": {
  "kernelspec": {
   "display_name": "Python 3 (ipykernel)",
   "language": "python",
   "name": "python3"
  },
  "language_info": {
   "codemirror_mode": {
    "name": "ipython",
    "version": 3
   },
   "file_extension": ".py",
   "mimetype": "text/x-python",
   "name": "python",
   "nbconvert_exporter": "python",
   "pygments_lexer": "ipython3",
   "version": "3.9.10"
  }
 },
 "nbformat": 4,
 "nbformat_minor": 5
}
