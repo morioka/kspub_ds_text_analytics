{
 "cells": [
  {
   "cell_type": "markdown",
   "id": "f5c1bcae-fcb8-4251-817f-8a39f3f8591d",
   "metadata": {
    "tags": []
   },
   "source": [
    "# ginzaの使い方"
   ]
  },
  {
   "cell_type": "markdown",
   "id": "111f81dd-0f41-49c8-8423-624c7a7ef445",
   "metadata": {
    "tags": []
   },
   "source": [
    "## 基本的な使い方"
   ]
  },
  {
   "cell_type": "markdown",
   "id": "9b883d5a-e7a0-48e7-8f44-8f5494bb2dca",
   "metadata": {
    "tags": []
   },
   "source": [
    "モデルを指定して解析器を読み込む．"
   ]
  },
  {
   "cell_type": "code",
   "execution_count": 1,
   "id": "916ebcc6-5254-4629-85f6-6d23816f6192",
   "metadata": {
    "tags": []
   },
   "outputs": [],
   "source": [
    "import spacy\n",
    "\n",
    "nlp = spacy.load(\"ja_ginza\")"
   ]
  },
  {
   "cell_type": "markdown",
   "id": "61521fb2-62fa-4ab9-a8b8-de87881ce221",
   "metadata": {},
   "source": [
    "その解析器を用いて，文章を単語に分割することができる．"
   ]
  },
  {
   "cell_type": "code",
   "execution_count": 2,
   "id": "48800c40-f5ce-4aee-969e-c1bf75a78c33",
   "metadata": {
    "tags": []
   },
   "outputs": [
    {
     "name": "stdout",
     "output_type": "stream",
     "text": [
      "昨日\n",
      "の\n",
      "天気\n",
      "は\n",
      "雨\n",
      "でし\n",
      "た\n",
      "。\n",
      "晴れ\n",
      "て\n",
      "ほしかっ\n",
      "た\n",
      "。\n"
     ]
    }
   ],
   "source": [
    "text = \"昨日の天気は雨でした。晴れてほしかった。\"\n",
    "doc = nlp(text)\n",
    "\n",
    "for token in doc:\n",
    "    print(token)"
   ]
  },
  {
   "cell_type": "markdown",
   "id": "9d504428-0049-4d6b-bb24-efc3ccd17d40",
   "metadata": {},
   "source": [
    "分割された単語には，出現形(text)，原形(lemma_)，品詞(tag_)が属性として付与される[<sup>1</sup>](#id1)．"
   ]
  },
  {
   "cell_type": "code",
   "execution_count": 3,
   "id": "bb9fd43c-6760-4360-be5a-28be0092db46",
   "metadata": {
    "tags": []
   },
   "outputs": [
    {
     "name": "stdout",
     "output_type": "stream",
     "text": [
      "昨日\t昨日\tNOUN\t名詞-普通名詞-副詞可能\n",
      "の\tの\tADP\t助詞-格助詞\n",
      "天気\t天気\tNOUN\t名詞-普通名詞-一般\n",
      "は\tは\tADP\t助詞-係助詞\n",
      "雨\t雨\tNOUN\t名詞-普通名詞-一般\n",
      "でし\tです\tAUX\t助動詞\n",
      "た\tた\tAUX\t助動詞\n",
      "。\t。\tPUNCT\t補助記号-句点\n",
      "晴れ\t晴れる\tVERB\t動詞-一般\n",
      "て\tて\tSCONJ\t助詞-接続助詞\n",
      "ほしかっ\tほしい\tAUX\t形容詞-非自立可能\n",
      "た\tた\tAUX\t助動詞\n",
      "。\t。\tPUNCT\t補助記号-句点\n"
     ]
    }
   ],
   "source": [
    "for token in doc:\n",
    "    print(f\"{token.text}\\t{token.lemma_}\\t{token.pos_}\\t{token.tag_}\")"
   ]
  },
  {
   "cell_type": "markdown",
   "id": "c2ab62f7-2949-403f-b20a-631850e8aa06",
   "metadata": {},
   "source": [
    "pandasのDataFrameに解析結果を格納する方法はこのようになる．"
   ]
  },
  {
   "cell_type": "code",
   "execution_count": 4,
   "id": "ca0293a5-037a-4eeb-8d6d-1b5aca8de83f",
   "metadata": {
    "tags": []
   },
   "outputs": [
    {
     "data": {
      "text/html": [
       "<div>\n",
       "<style scoped>\n",
       "    .dataframe tbody tr th:only-of-type {\n",
       "        vertical-align: middle;\n",
       "    }\n",
       "\n",
       "    .dataframe tbody tr th {\n",
       "        vertical-align: top;\n",
       "    }\n",
       "\n",
       "    .dataframe thead th {\n",
       "        text-align: right;\n",
       "    }\n",
       "</style>\n",
       "<table border=\"1\" class=\"dataframe\">\n",
       "  <thead>\n",
       "    <tr style=\"text-align: right;\">\n",
       "      <th></th>\n",
       "      <th>text</th>\n",
       "      <th>lemma_</th>\n",
       "      <th>pos_</th>\n",
       "      <th>tag_</th>\n",
       "    </tr>\n",
       "  </thead>\n",
       "  <tbody>\n",
       "    <tr>\n",
       "      <th>0</th>\n",
       "      <td>昨日</td>\n",
       "      <td>昨日</td>\n",
       "      <td>NOUN</td>\n",
       "      <td>名詞-普通名詞-副詞可能</td>\n",
       "    </tr>\n",
       "    <tr>\n",
       "      <th>1</th>\n",
       "      <td>の</td>\n",
       "      <td>の</td>\n",
       "      <td>ADP</td>\n",
       "      <td>助詞-格助詞</td>\n",
       "    </tr>\n",
       "    <tr>\n",
       "      <th>2</th>\n",
       "      <td>天気</td>\n",
       "      <td>天気</td>\n",
       "      <td>NOUN</td>\n",
       "      <td>名詞-普通名詞-一般</td>\n",
       "    </tr>\n",
       "    <tr>\n",
       "      <th>3</th>\n",
       "      <td>は</td>\n",
       "      <td>は</td>\n",
       "      <td>ADP</td>\n",
       "      <td>助詞-係助詞</td>\n",
       "    </tr>\n",
       "    <tr>\n",
       "      <th>4</th>\n",
       "      <td>雨</td>\n",
       "      <td>雨</td>\n",
       "      <td>NOUN</td>\n",
       "      <td>名詞-普通名詞-一般</td>\n",
       "    </tr>\n",
       "    <tr>\n",
       "      <th>5</th>\n",
       "      <td>でし</td>\n",
       "      <td>です</td>\n",
       "      <td>AUX</td>\n",
       "      <td>助動詞</td>\n",
       "    </tr>\n",
       "    <tr>\n",
       "      <th>6</th>\n",
       "      <td>た</td>\n",
       "      <td>た</td>\n",
       "      <td>AUX</td>\n",
       "      <td>助動詞</td>\n",
       "    </tr>\n",
       "    <tr>\n",
       "      <th>7</th>\n",
       "      <td>。</td>\n",
       "      <td>。</td>\n",
       "      <td>PUNCT</td>\n",
       "      <td>補助記号-句点</td>\n",
       "    </tr>\n",
       "    <tr>\n",
       "      <th>8</th>\n",
       "      <td>晴れ</td>\n",
       "      <td>晴れる</td>\n",
       "      <td>VERB</td>\n",
       "      <td>動詞-一般</td>\n",
       "    </tr>\n",
       "    <tr>\n",
       "      <th>9</th>\n",
       "      <td>て</td>\n",
       "      <td>て</td>\n",
       "      <td>SCONJ</td>\n",
       "      <td>助詞-接続助詞</td>\n",
       "    </tr>\n",
       "    <tr>\n",
       "      <th>10</th>\n",
       "      <td>ほしかっ</td>\n",
       "      <td>ほしい</td>\n",
       "      <td>AUX</td>\n",
       "      <td>形容詞-非自立可能</td>\n",
       "    </tr>\n",
       "    <tr>\n",
       "      <th>11</th>\n",
       "      <td>た</td>\n",
       "      <td>た</td>\n",
       "      <td>AUX</td>\n",
       "      <td>助動詞</td>\n",
       "    </tr>\n",
       "    <tr>\n",
       "      <th>12</th>\n",
       "      <td>。</td>\n",
       "      <td>。</td>\n",
       "      <td>PUNCT</td>\n",
       "      <td>補助記号-句点</td>\n",
       "    </tr>\n",
       "  </tbody>\n",
       "</table>\n",
       "</div>"
      ],
      "text/plain": [
       "    text lemma_   pos_          tag_\n",
       "0     昨日     昨日   NOUN  名詞-普通名詞-副詞可能\n",
       "1      の      の    ADP        助詞-格助詞\n",
       "2     天気     天気   NOUN    名詞-普通名詞-一般\n",
       "3      は      は    ADP        助詞-係助詞\n",
       "4      雨      雨   NOUN    名詞-普通名詞-一般\n",
       "5     でし     です    AUX           助動詞\n",
       "6      た      た    AUX           助動詞\n",
       "7      。      。  PUNCT       補助記号-句点\n",
       "8     晴れ    晴れる   VERB         動詞-一般\n",
       "9      て      て  SCONJ       助詞-接続助詞\n",
       "10  ほしかっ    ほしい    AUX     形容詞-非自立可能\n",
       "11     た      た    AUX           助動詞\n",
       "12     。      。  PUNCT       補助記号-句点"
      ]
     },
     "metadata": {},
     "output_type": "display_data"
    }
   ],
   "source": [
    "import pandas as pd\n",
    "\n",
    "df = pd.DataFrame({\n",
    "    'text': token.text,\n",
    "    'lemma_': token.lemma_,\n",
    "    'pos_': token.pos_,\n",
    "    'tag_': token.tag_\n",
    "    } for token in doc)\n",
    "\n",
    "display(df)"
   ]
  },
  {
   "cell_type": "markdown",
   "id": "c11fccda-2ee0-4554-8d13-2f325ee2cb7b",
   "metadata": {
    "tags": []
   },
   "source": [
    "さきほど用意した小説を単語に分割してみよう．"
   ]
  },
  {
   "cell_type": "code",
   "execution_count": 5,
   "id": "843df918-e9e9-4f94-9ac7-365e88fd61d7",
   "metadata": {
    "tags": []
   },
   "outputs": [
    {
     "name": "stdout",
     "output_type": "stream",
     "text": [
      "断末魔 の 雄 獅子\n",
      "\n",
      "　 三十二 、 三 歳 に 見える やせ型 の 男 が 、 張 ホテル の 玄関 を はいっ て 、 カウンター の うしろ の 支配人 室 へ 踏みこん で いっ た 。\n",
      "　 ずんぐり と 背 が 低く て 丸々 と 太っ た ちょびひげ の 支配人 が デスク に 向かっ て 帳簿 を いじくっ て い た 。 そば の 灰 ざら に のせ た 半分 ほど に なっ た 葉巻き から 、 細い 紫色 の 煙 が ほとんど まっすぐ に 立ちのぼっ て い た 。 ハバナ の かおり が 何 か 猥 ※ な 感じ で 漂っ て い た 。\n",
      "「 来 て いる ね ？ 」\n",
      "　 やせ型 の 男 が ニヤッ と 笑っ て たずね た 。\n",
      "「 うん 、 来 て いる 。 もう 始まっ て いる ころ だ よ 」\n",
      "「 じゃあ 、 あの へや へ 行く よ 」\n",
      "「 いい とも 、 見つかり っこ は ない が 、 せいぜい 用心 し て ね 」\n",
      "　 やせ型 の 男 は ネズミ色 の セビロ を 着 て 、 ネズミ色 の ワイシャツ 、 ネズミ色 の ネクタイ 、 くつ まで ネズミ色 の もの を はい て い た 。 どんな 背景 の 前 で も 最も 目だた ない 服装 で あっ た 。 かれ は まったく 足音 を たて ない で 階段 を 駆け上がり 、 二 階 の ずっと 奥まっ た 一室 の ドア を そっと ひらい て 、 中 に すべりこむ と 、 電灯 も つけ ず 、 一方 の 壁 に ある 押し入れ の 戸 を 用意 の カギ で ひらき 、 その 中 へ 身 を 隠し た 。\n"
     ]
    }
   ],
   "source": [
    "input_fn = 'text/kageotoko.corpus.txt'\n",
    "output_fn = 'text/kageotoko.wakati.txt'\n",
    "\n",
    "with open(input_fn, 'r') as fin, open(output_fn, 'w') as fout:\n",
    "    for line in fin:\n",
    "        tokens = [token.text for token in nlp(line.rstrip())]\n",
    "        fout.write(' '.join(tokens)+'\\n')\n",
    "\n",
    "!head text/kageotoko.wakati.txt"
   ]
  },
  {
   "cell_type": "markdown",
   "id": "f3a3607d-ae21-4b7b-91ed-e90573fd8adf",
   "metadata": {},
   "source": [
    "単語の出現頻度を数えてみよう．活用する語の活用形を別々に数えるのではなく，原形で集計する．"
   ]
  },
  {
   "cell_type": "code",
   "execution_count": 6,
   "id": "53eeb237-1006-4d63-80d4-b794fd2078ad",
   "metadata": {
    "tags": []
   },
   "outputs": [],
   "source": [
    "from collections import Counter\n",
    "\n",
    "include_pos = ('NOUN', 'VERB', 'ADJ')\n",
    "stopwords = ('する', 'ある', 'ない', 'いう', 'もの', 'こと', 'よう', 'なる', 'ほう')"
   ]
  },
  {
   "cell_type": "markdown",
   "id": "87badcee-77f8-43dd-be17-60d68700d37f",
   "metadata": {},
   "source": [
    "SudachiPyのバージョンが0.6以上の場合，分析できるテキストの長さに限界があるため，100行ずつまとめて処理する"
   ]
  },
  {
   "cell_type": "code",
   "execution_count": 13,
   "id": "7d311642-1f76-45ee-a083-650712b676f2",
   "metadata": {},
   "outputs": [
    {
     "name": "stdout",
     "output_type": "stream",
     "text": [
      "count word\n",
      " 1262 いる\n",
      "  225 お\n",
      "  212 中\n",
      "  206 人\n",
      "  199 男\n",
      "  193 くる\n",
      "  175 顔\n",
      "  157 いく\n",
      "  156 ふたり\n",
      "  143 つ\n"
     ]
    }
   ],
   "source": [
    "def chunk(lst, n):\n",
    "    \"\"\"\n",
    "    リストをn個ずつのサブリストに分割する。\n",
    "    \"\"\"\n",
    "    return [lst[i:i+n] for i in range(0, len(lst), n)]\n",
    "\n",
    "\n",
    "with open(input_fn, 'r') as f:\n",
    "    lines = [l.replace(\"\\n\",\"\") for l in f.readlines()]\n",
    "\n",
    "lst_texts = chunk(lines,100)\n",
    "lst_tokens = []\n",
    "for text in lst_texts:\n",
    "    doc = nlp(\" \".join(text))\n",
    "    lst_tokens.extend([\n",
    "        token.lemma_ for token in doc\n",
    "        if token.pos_ in include_pos and token.lemma_ not in stopwords\n",
    "    ])\n",
    "counter = Counter(lst_tokens)\n",
    "\n",
    "print('count word')\n",
    "for word, count in counter.most_common(10):\n",
    "     print(f'{count:>5} {word}')"
   ]
  },
  {
   "cell_type": "markdown",
   "id": "f7c43c40-5141-49d3-8af1-6766235a79db",
   "metadata": {
    "tags": []
   },
   "source": [
    "## 注釈\n",
    "<sup>1</sup> <span id=id1>pos_属性は，Universal Dependencyの品詞体系．</span>"
   ]
  }
 ],
 "metadata": {
  "kernelspec": {
   "display_name": "Python 3 (ipykernel)",
   "language": "python",
   "name": "python3"
  },
  "language_info": {
   "codemirror_mode": {
    "name": "ipython",
    "version": 3
   },
   "file_extension": ".py",
   "mimetype": "text/x-python",
   "name": "python",
   "nbconvert_exporter": "python",
   "pygments_lexer": "ipython3",
   "version": "3.9.10"
  },
  "toc-autonumbering": false,
  "toc-showcode": false,
  "toc-showmarkdowntxt": false,
  "toc-showtags": false
 },
 "nbformat": 4,
 "nbformat_minor": 5
}
