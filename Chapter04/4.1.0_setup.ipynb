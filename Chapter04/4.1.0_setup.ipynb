{
 "cells": [
  {
   "cell_type": "markdown",
   "id": "f5c1bcae-fcb8-4251-817f-8a39f3f8591d",
   "metadata": {
    "tags": []
   },
   "source": [
    "# ginzaの使い方"
   ]
  },
  {
   "cell_type": "markdown",
   "id": "c5442ad9-6a01-4815-bf1b-1db7661bb78d",
   "metadata": {
    "tags": []
   },
   "source": [
    "## パッケージのインストール"
   ]
  },
  {
   "cell_type": "code",
   "execution_count": null,
   "id": "5f05ddff-01a2-47cd-8cae-3be310d28643",
   "metadata": {
    "tags": []
   },
   "outputs": [],
   "source": [
    "!pip install SudachiPy==0.6.7 ja-ginza==5.1.2 ginza==5.1.2 ja-ginza-electra==5.1.2 ipywidgets scikit-learn pandas"
   ]
  },
  {
   "cell_type": "markdown",
   "id": "50c8f45f-49ba-45f5-8ea8-97e781db00f5",
   "metadata": {
    "tags": []
   },
   "source": [
    "## 解析対象データをダウンロード"
   ]
  },
  {
   "cell_type": "markdown",
   "id": "15b55e82-a745-4f4b-95d7-31461a4acd54",
   "metadata": {
    "tags": []
   },
   "source": [
    "江戸川乱歩作「影男」を青空文庫からダウンロードし，textディレクトリに配置．"
   ]
  },
  {
   "cell_type": "code",
   "execution_count": 2,
   "id": "502a8bd8-2873-4416-bccf-c513554c0e14",
   "metadata": {
    "tags": []
   },
   "outputs": [
    {
     "name": "stdout",
     "output_type": "stream",
     "text": [
      "--2023-04-19 21:16:32--  https://www.aozora.gr.jp/cards/001779/files/58486_ruby_68458.zip\n",
      "www.aozora.gr.jp (www.aozora.gr.jp) をDNSに問いあわせています... 59.106.13.115\n",
      "www.aozora.gr.jp (www.aozora.gr.jp)|59.106.13.115|:443 に接続しています... 接続しました。\n",
      "HTTP による接続要求を送信しました、応答を待っています... 200 OK\n",
      "長さ: 135270 (132K) [application/zip]\n",
      "`58486_ruby_68458.zip' に保存中\n",
      "\n",
      "58486_ruby_68458.zi 100%[===================>] 132.10K  --.-KB/s 時間 0.03s      \n",
      "\n",
      "2023-04-19 21:16:32 (4.58 MB/s) - `58486_ruby_68458.zip' へ保存完了 [135270/135270]\n",
      "\n",
      "Archive:  58486_ruby_68458.zip\n",
      "Made with MacWinZipper (http://tidajapan.com/macwinzipper)\n",
      "  inflating: text/kageotoko.txt      \n"
     ]
    }
   ],
   "source": [
    "!wget -c https://www.aozora.gr.jp/cards/001779/files/58486_ruby_68458.zip\n",
    "!mkdir -p text\n",
    "!unzip -d text -o 58486_ruby_68458.zip\n",
    "!rm -f 58486_ruby_68458.zip"
   ]
  },
  {
   "cell_type": "markdown",
   "id": "6fa255a6-714c-410f-a2ad-1bf07dbe3582",
   "metadata": {
    "tags": []
   },
   "source": [
    "《》や［］で囲まれるルビを除去する．"
   ]
  },
  {
   "cell_type": "code",
   "execution_count": 3,
   "id": "6b306af3-00ca-4319-8417-a9d726b0614d",
   "metadata": {
    "tags": []
   },
   "outputs": [],
   "source": [
    "import re\n",
    "\n",
    "input_fn = 'text/kageotoko.txt'\n",
    "output_fn = 'text/kageotoko.stripruby.txt'\n",
    "\n",
    "with open(input_fn, encoding='shift-jis') as fin, open(output_fn, mode='w') as fout:\n",
    "    for line in fin:\n",
    "        fout.write(re.sub(r'《[^》]+》|［[^］]+］', '', line))"
   ]
  },
  {
   "cell_type": "markdown",
   "id": "9c807ff6-2278-42b7-ad4b-a3db5b7eb9ec",
   "metadata": {},
   "source": [
    "青空文庫の注釈である冒頭18行と末尾14行を削除[<sup>1</sup>](#id1)．"
   ]
  },
  {
   "cell_type": "code",
   "execution_count": 4,
   "id": "806400ec-fd08-4df5-88f7-c3182373995b",
   "metadata": {
    "tags": []
   },
   "outputs": [
    {
     "name": "stdout",
     "output_type": "stream",
     "text": [
      "断末魔の雄獅子\n",
      "\n",
      "　三十二、三歳に見えるやせ型の男が、張ホテルの玄関をはいって、カウンターのうしろの支配人室へ踏みこんでいった。\n",
      "　ずんぐりと背が低くて丸々と太ったちょびひげの支配人がデスクに向かって帳簿をいじくっていた。そばの灰ざらにのせた半分ほどになった葉巻きから、細い紫色の煙がほとんどまっすぐに立ちのぼっていた。ハバナのかおりが何か猥※な感じで漂っていた。\n",
      "「来ているね？」\n",
      "　やせ型の男がニヤッと笑ってたずねた。\n",
      "「うん、来ている。もう始まっているころだよ」\n",
      "「じゃあ、あのへやへ行くよ」\n",
      "「いいとも、見つかりっこはないが、せいぜい用心してね」\n",
      "　やせ型の男はネズミ色のセビロを着て、ネズミ色のワイシャツ、ネズミ色のネクタイ、くつまでネズミ色のものをはいていた。どんな背景の前でも最も目だたない服装であった。かれはまったく足音をたてないで階段を駆け上がり、二階のずっと奥まった一室のドアをそっとひらいて、中にすべりこむと、電灯もつけず、一方の壁にある押し入れの戸を用意のカギでひらき、その中へ身を隠した。\n"
     ]
    }
   ],
   "source": [
    "!tail -n +18 text/kageotoko.stripruby.txt | head -n -14 > text/kageotoko.corpus.txt\n",
    "!head text/kageotoko.corpus.txt"
   ]
  },
  {
   "cell_type": "markdown",
   "id": "aea0174e-cba3-4f09-95eb-f331b5af15ff",
   "metadata": {
    "jp-MarkdownHeadingCollapsed": true,
    "tags": []
   },
   "source": [
    "## 注釈\n",
    "<sup>1</sup> <span id=id1>注釈の分量は作品によって異なるので，削除すべき箇所の分量は手作業で確認が必要．</span> <br/>"
   ]
  }
 ],
 "metadata": {
  "kernelspec": {
   "display_name": "Python 3 (ipykernel)",
   "language": "python",
   "name": "python3"
  },
  "language_info": {
   "codemirror_mode": {
    "name": "ipython",
    "version": 3
   },
   "file_extension": ".py",
   "mimetype": "text/x-python",
   "name": "python",
   "nbconvert_exporter": "python",
   "pygments_lexer": "ipython3",
   "version": "3.9.10"
  },
  "toc-autonumbering": false,
  "toc-showcode": false,
  "toc-showmarkdowntxt": false,
  "toc-showtags": false
 },
 "nbformat": 4,
 "nbformat_minor": 5
}
